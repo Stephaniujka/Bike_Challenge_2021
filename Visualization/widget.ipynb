{
 "metadata": {
  "language_info": {
   "codemirror_mode": {
    "name": "ipython",
    "version": 3
   },
   "file_extension": ".py",
   "mimetype": "text/x-python",
   "name": "python",
   "nbconvert_exporter": "python",
   "pygments_lexer": "ipython3",
   "version": "3.8.8-final"
  },
  "orig_nbformat": 2,
  "kernelspec": {
   "name": "python3",
   "display_name": "Python 3.8.8 64-bit ('stef_env': conda)",
   "metadata": {
    "interpreter": {
     "hash": "f2553dd8eab56fa176af5ba2b5dc4cf53e056913a0b7c75b8a54aa30280dccb2"
    }
   }
  }
 },
 "nbformat": 4,
 "nbformat_minor": 2,
 "cells": [
  {
   "source": [
    "# Visualization part"
   ],
   "cell_type": "markdown",
   "metadata": {}
  },
  {
   "source": [
    "## The required libraries"
   ],
   "cell_type": "markdown",
   "metadata": {}
  },
  {
   "cell_type": "code",
   "execution_count": 2,
   "metadata": {},
   "outputs": [],
   "source": [
    "import pandas as pd\n",
    "import numpy as np\n",
    "import simplejson as json\n",
    "from datetime import datetime\n",
    "from matplotlib import pyplot as plt\n",
    "import ipywidgets as widgets\n",
    "from ipywidgets import interactive, interact\n",
    "%matplotlib widget\n",
    "import folium\n",
    "import os\n",
    "from PIL import ImageFont\n",
    "from PIL import Image\n",
    "from PIL import ImageDraw\n"
   ]
  },
  {
   "source": [
    "## Opening the data with .json extension"
   ],
   "cell_type": "markdown",
   "metadata": {}
  },
  {
   "cell_type": "code",
   "execution_count": 3,
   "metadata": {},
   "outputs": [],
   "source": [
    "Totem_1 = pd.read_json('MMM_EcoCompt_Archives/MMM_EcoCompt_X2H19070220_Archive2020.json', lines=True)\n",
    "Totem_2 = pd.read_json('MMM_EcoCompt_Archives/MMM_EcoCompt_X2H20042632_Archive2020.json', lines=True)\n",
    "Totem_3 = pd.read_json('MMM_EcoCompt_Archives/MMM_EcoCompt_X2H20042633_Archive2020.json', lines=True)\n",
    "Totem_4 = pd.read_json('MMM_EcoCompt_Archives/MMM_EcoCompt_X2H20042634_Archive2020.json', lines=True)\n",
    "Totem_5 = pd.read_json('MMM_EcoCompt_Archives/MMM_EcoCompt_X2H20042635_Archive2020.json', lines=True)\n",
    "Totem_6 = pd.read_json('MMM_EcoCompt_Archives/MMM_EcoCompt_X2H20063161_Archive2020.json', lines=True)\n",
    "Totem_7 = pd.read_json('MMM_EcoCompt_Archives/MMM_EcoCompt_X2H20063162_Archive2020.json', lines=True)\n",
    "Totem_8 = pd.read_json('MMM_EcoCompt_Archives/MMM_EcoCompt_X2H20063163_Archive2020.json', lines=True)\n",
    "Totem_9 = pd.read_json('MMM_EcoCompt_Archives/MMM_EcoCompt_X2H20063164_Archive2020.json', lines=True)\n",
    "Totem_10 = pd.read_json('MMM_EcoCompt_Archives/MMM_EcoCompt_XTH19101158_Archive2020.json', lines=True)"
   ]
  },
  {
   "cell_type": "code",
   "execution_count": 4,
   "metadata": {},
   "outputs": [],
   "source": [
    "ar = np.array([\n",
    "    [Totem_1.iat[0,1], Totem_1.iat[0,3]], \n",
    "    [Totem_2.iat[0,1], Totem_2.iat[0,3]], \n",
    "    [Totem_3.iat[0,1], Totem_3.iat[0,3]], \n",
    "    [Totem_4.iat[0,1], Totem_4.iat[0,3]], \n",
    "    [Totem_5.iat[0,1], Totem_5.iat[0,3]], \n",
    "    [Totem_6.iat[0,1], Totem_6.iat[0,3]], \n",
    "    [Totem_7.iat[0,1], Totem_7.iat[0,3]], \n",
    "    [Totem_8.iat[0,1], Totem_8.iat[0,3]], \n",
    "    [Totem_9.iat[0,1], Totem_9.iat[0,3]], \n",
    "    [Totem_10.iat[0,1], Totem_10.iat[0,3]]])\n",
    "Totem_info = pd.DataFrame(ar, index = ['Totem_1', 'Totem_2', 'Totem_3','Totem_4', 'Totem_5', 'Totem_6','Totem_7', 'Totem_8', 'Totem_9','Totem_10'], columns = ['laneId', 'location'])\n",
    "Totem_info['Latitude'] = [\n",
    "    \" \".join(map(str,Totem_info.iat[0,1][\"coordinates\"]))[18:35],\n",
    "    \" \".join(map(str,Totem_info.iat[1,1][\"coordinates\"]))[8:15],\n",
    "    \" \".join(map(str,Totem_info.iat[2,1][\"coordinates\"]))[7:15],\n",
    "    \" \".join(map(str,Totem_info.iat[3,1][\"coordinates\"]))[19:27],\n",
    "    \" \".join(map(str,Totem_info.iat[4,1][\"coordinates\"]))[8:16],\n",
    "    \" \".join(map(str,Totem_info.iat[5,1][\"coordinates\"]))[10:20],\n",
    "    \" \".join(map(str,Totem_info.iat[6,1][\"coordinates\"]))[10:20],\n",
    "    \" \".join(map(str,Totem_info.iat[7,1][\"coordinates\"]))[10:20],\n",
    "    \" \".join(map(str,Totem_info.iat[8,1][\"coordinates\"]))[10:20],\n",
    "    \" \".join(map(str,Totem_info.iat[9,1][\"coordinates\"]))[18:35]\n",
    "]\n",
    "Totem_info['Longitude'] = [\n",
    "    \" \".join(map(str,Totem_info.iat[0,1][\"coordinates\"]))[0:17],\n",
    "    \" \".join(map(str,Totem_info.iat[1,1][\"coordinates\"]))[0:7],\n",
    "    \" \".join(map(str,Totem_info.iat[2,1][\"coordinates\"]))[0:6],\n",
    "    \" \".join(map(str,Totem_info.iat[3,1][\"coordinates\"]))[0:18],\n",
    "    \" \".join(map(str,Totem_info.iat[4,1][\"coordinates\"]))[0:7],\n",
    "    \" \".join(map(str,Totem_info.iat[5,1][\"coordinates\"]))[0:9],\n",
    "    \" \".join(map(str,Totem_info.iat[6,1][\"coordinates\"]))[0:9],\n",
    "    \" \".join(map(str,Totem_info.iat[7,1][\"coordinates\"]))[0:10],\n",
    "    \" \".join(map(str,Totem_info.iat[8,1][\"coordinates\"]))[0:10],\n",
    "    \" \".join(map(str,Totem_info.iat[9,1][\"coordinates\"]))[0:17]\n",
    "]\n",
    "\n",
    "Totem_info = Totem_info.drop('location', 1)\n",
    "Totem_info['Totem Name'] = ['Beracasa', 'Lavérune', 'Celleneuve', 'Lattes 2', 'Lattes 1', 'Vieille-Poste', 'Gerhardt', 'Delmas 1', 'Delmas 2', 'Albert 1er']\n",
    "Totem_info = Totem_info[['laneId', 'Totem Name', 'Latitude', 'Longitude']]"
   ]
  },
  {
   "source": [
    "For Totem_8 and Totem_9, we have the same coordinates. The map indicates us that the counters are in Delmas. We refereted to the website https://compteurs.velocite-montpellier.fr/ to recognize which totem is Delmas 1 and which is Delmas 2. Delmas 2, thank to the photography, indicates that the totem count the bicycle passing from Montpellier to Castelneau-Le-Lez (Delmas 1 it's the contrary), so it's quite logicall that the intensity of the traffic for Delmas 2 is less than the intensity of the traffic for Delmas 1. And The data on the website for 2021 confort us to that choice."
   ],
   "cell_type": "markdown",
   "metadata": {}
  },
  {
   "cell_type": "code",
   "execution_count": 5,
   "metadata": {},
   "outputs": [],
   "source": [
    "Totem_1 = Totem_1.drop(['id','type','vehicleType','reversedLane','laneId','location'], 1)\n",
    "Totem_2 = Totem_2.drop(['id','type','vehicleType','reversedLane','laneId','location'], 1)\n",
    "Totem_3 = Totem_3.drop(['id','type','vehicleType','reversedLane','laneId','location'], 1)\n",
    "Totem_4 = Totem_4.drop(['id','type','vehicleType','reversedLane','laneId','location'], 1)\n",
    "Totem_5 = Totem_5.drop(['id','type','vehicleType','reversedLane','laneId','location'], 1)\n",
    "Totem_6 = Totem_6.drop(['id','type','vehicleType','reversedLane','laneId','location'], 1)\n",
    "Totem_6 = Totem_6.drop(Totem_8.index[0])\n",
    "Totem_7 = Totem_7.drop(['id','type','vehicleType','reversedLane','laneId','location'], 1)\n",
    "Totem_7 = Totem_7.drop(Totem_8.index[0])\n",
    "Totem_8 = Totem_8.drop(['id','type','vehicleType','reversedLane','laneId','location'], 1)\n",
    "Totem_8 = Totem_8.drop(Totem_8.index[0])\n",
    "Totem_9 = Totem_9.drop(['id','type','vehicleType','reversedLane','laneId','location'], 1)\n",
    "Totem_10 = Totem_10.drop(['id','type','vehicleType','reversedLane','laneId','location'], 1)"
   ]
  },
  {
   "cell_type": "code",
   "execution_count": 6,
   "metadata": {},
   "outputs": [],
   "source": [
    "Totem_2 = Totem_2.rename(columns = {'dateObserved': 'Date', 'intensity': 'Lavérune'})\n",
    "Totem_3 = Totem_3.rename(columns = {'dateObserved': 'Date', 'intensity': 'Celleneuve'})\n",
    "Totem_4 = Totem_4.rename(columns = {'dateObserved': 'Date', 'intensity': 'Lattes 2'})\n",
    "Totem_5 = Totem_5.rename(columns = {'dateObserved': 'Date', 'intensity': 'Lattes 1'})\n",
    "Totem_6 = Totem_6.rename(columns = {'dateObserved': 'Date', 'intensity': 'Vieille-Poste'})\n",
    "Totem_7 = Totem_7.rename(columns = {'dateObserved': 'Date', 'intensity': 'Gerhardt'})\n",
    "Totem_8 = Totem_8.rename(columns = {'dateObserved': 'Date', 'intensity': 'Delmas 1'})\n",
    "Totem_9 = Totem_9.rename(columns = {'dateObserved': 'Date', 'intensity': 'Delmas 2'})\n",
    "Totem_10 = Totem_10.rename(columns = {'dateObserved': 'Date', 'intensity': 'Albert 1er'})"
   ]
  },
  {
   "cell_type": "code",
   "execution_count": 7,
   "metadata": {},
   "outputs": [],
   "source": [
    "for i in range(0,len(Totem_1)):\n",
    "    Totem_1.iat[i,1] = Totem_1.iat[i,1][0:10]\n",
    "for i in range(0,len(Totem_2)):\n",
    "    Totem_2.iat[i,1] = Totem_2.iat[i,1][0:10]\n",
    "for i in range(0,len(Totem_3)):\n",
    "    Totem_3.iat[i,1] = Totem_3.iat[i,1][0:10]\n",
    "for i in range(0,len(Totem_4)):\n",
    "    Totem_4.iat[i,1] = Totem_4.iat[i,1][0:10]\n",
    "for i in range(0,len(Totem_5)):\n",
    "    Totem_5.iat[i,1] = Totem_5.iat[i,1][0:10]\n",
    "for i in range(0,len(Totem_6)):\n",
    "    Totem_6.iat[i,1] = Totem_6.iat[i,1][0:10]\n",
    "for i in range(0,len(Totem_7)):\n",
    "    Totem_7.iat[i,1] = Totem_7.iat[i,1][0:10]\n",
    "for i in range(0,len(Totem_8)):\n",
    "    Totem_8.iat[i,1] = Totem_8.iat[i,1][0:10]\n",
    "for i in range(0,len(Totem_9)):\n",
    "    Totem_9.iat[i,1] = Totem_9.iat[i,1][0:10]\n",
    "for i in range(0,len(Totem_10)):\n",
    "    Totem_10.iat[i,1] = Totem_10.iat[i,1][0:10]"
   ]
  },
  {
   "cell_type": "code",
   "execution_count": 8,
   "metadata": {},
   "outputs": [
    {
     "output_type": "stream",
     "name": "stdout",
     "text": [
      "Start Totem_1 : 2020-01-01  length : 366\nStart Totem_2 : 2020-06-19  length : 195\nStart Totem_3 : 2020-06-19  length : 195\nStart Totem_4 : 2020-06-19  length : 196\nStart Totem_5 : 2020-06-19  length : 196\nStart Totem_6 : 2020-07-08  length : 176\nStart Totem_7 : 2020-07-08  length : 176\nStart Totem_8 : 2020-07-08  length : 177\nStart Totem_9 : 2020-07-08  length : 177\nStart Totem_10 : 2020-03-12  length : 295\n"
     ]
    },
    {
     "output_type": "execute_result",
     "data": {
      "text/plain": [
       "(None,)"
      ]
     },
     "metadata": {},
     "execution_count": 8
    }
   ],
   "source": [
    "print('Start Totem_1 :', Totem_1.iat[0,1], ' length :', len(Totem_1)),\n",
    "print('Start Totem_2 :', Totem_2.iat[0,1], ' length :', len(Totem_2)),\n",
    "print('Start Totem_3 :', Totem_3.iat[0,1], ' length :', len(Totem_3)),\n",
    "print('Start Totem_4 :', Totem_4.iat[0,1], ' length :', len(Totem_4)),\n",
    "print('Start Totem_5 :', Totem_5.iat[0,1], ' length :', len(Totem_5)),\n",
    "print('Start Totem_6 :', Totem_6.iat[0,1], ' length :', len(Totem_6)),\n",
    "print('Start Totem_7 :', Totem_7.iat[0,1], ' length :', len(Totem_7)),\n",
    "print('Start Totem_8 :', Totem_8.iat[0,1], ' length :', len(Totem_8)),\n",
    "print('Start Totem_9 :', Totem_9.iat[0,1], ' length :', len(Totem_9)),\n",
    "print('Start Totem_10 :', Totem_10.iat[0,1], ' length :', len(Totem_10)),"
   ]
  },
  {
   "source": [
    "We can see that for totem 2, totem 3, totem 6 and totem 7, there is one date missing."
   ],
   "cell_type": "markdown",
   "metadata": {}
  },
  {
   "cell_type": "code",
   "execution_count": 9,
   "metadata": {},
   "outputs": [
    {
     "output_type": "execute_result",
     "data": {
      "text/plain": [
       "     intensity dateObserved\n",
       "170       1523   2020-06-19"
      ],
      "text/html": "<div>\n<style scoped>\n    .dataframe tbody tr th:only-of-type {\n        vertical-align: middle;\n    }\n\n    .dataframe tbody tr th {\n        vertical-align: top;\n    }\n\n    .dataframe thead th {\n        text-align: right;\n    }\n</style>\n<table border=\"1\" class=\"dataframe\">\n  <thead>\n    <tr style=\"text-align: right;\">\n      <th></th>\n      <th>intensity</th>\n      <th>dateObserved</th>\n    </tr>\n  </thead>\n  <tbody>\n    <tr>\n      <th>170</th>\n      <td>1523</td>\n      <td>2020-06-19</td>\n    </tr>\n  </tbody>\n</table>\n</div>"
     },
     "metadata": {},
     "execution_count": 9
    }
   ],
   "source": [
    "Totem_1.loc[Totem_1['dateObserved'] == '2020-06-19']"
   ]
  },
  {
   "cell_type": "code",
   "execution_count": 10,
   "metadata": {},
   "outputs": [],
   "source": [
    "date1 = Totem_1.copy()\n",
    "date1 = date1.iloc[170:]"
   ]
  },
  {
   "cell_type": "code",
   "execution_count": 11,
   "metadata": {},
   "outputs": [
    {
     "output_type": "execute_result",
     "data": {
      "text/plain": [
       "     Lavérune        Date\n",
       "189       173  2020-12-26"
      ],
      "text/html": "<div>\n<style scoped>\n    .dataframe tbody tr th:only-of-type {\n        vertical-align: middle;\n    }\n\n    .dataframe tbody tr th {\n        vertical-align: top;\n    }\n\n    .dataframe thead th {\n        text-align: right;\n    }\n</style>\n<table border=\"1\" class=\"dataframe\">\n  <thead>\n    <tr style=\"text-align: right;\">\n      <th></th>\n      <th>Lavérune</th>\n      <th>Date</th>\n    </tr>\n  </thead>\n  <tbody>\n    <tr>\n      <th>189</th>\n      <td>173</td>\n      <td>2020-12-26</td>\n    </tr>\n  </tbody>\n</table>\n</div>"
     },
     "metadata": {},
     "execution_count": 11
    }
   ],
   "source": [
    "Totem_2.loc[Totem_1['dateObserved'] == '2020-07-08']"
   ]
  },
  {
   "cell_type": "code",
   "execution_count": 12,
   "metadata": {},
   "outputs": [],
   "source": [
    "date2 = Totem_1.copy()\n",
    "date2 = date2.iloc[189:]"
   ]
  },
  {
   "source": [
    "### Totem 2 missing data"
   ],
   "cell_type": "markdown",
   "metadata": {}
  },
  {
   "cell_type": "code",
   "execution_count": 13,
   "metadata": {},
   "outputs": [
    {
     "output_type": "execute_result",
     "data": {
      "text/plain": [
       "False"
      ]
     },
     "metadata": {},
     "execution_count": 13
    }
   ],
   "source": [
    "Totem_2['Date'].equals(date1['dateObserved'])"
   ]
  },
  {
   "cell_type": "code",
   "execution_count": 14,
   "metadata": {},
   "outputs": [
    {
     "output_type": "stream",
     "name": "stdout",
     "text": [
      "157\n"
     ]
    }
   ],
   "source": [
    "for i in range(0,len(Totem_2)):\n",
    "    if (Totem_2.iat[i,1] != date1.iat[i,1]) :\n",
    "        print(i)\n",
    "        break"
   ]
  },
  {
   "cell_type": "code",
   "execution_count": 15,
   "metadata": {},
   "outputs": [
    {
     "output_type": "stream",
     "name": "stdout",
     "text": [
      "Totem 2 : 2020-11-22 and 2020-11-24\nReference : 2020-11-22 and 2020-11-23\n"
     ]
    }
   ],
   "source": [
    "print('Totem 2 :', Totem_2.iat[156,1], 'and', Totem_2.iat[157,1]),\n",
    "print('Reference :', date1.iat[156,1], 'and', date1.iat[157,1])"
   ]
  },
  {
   "cell_type": "code",
   "execution_count": 16,
   "metadata": {},
   "outputs": [],
   "source": [
    "A = Totem_2.copy()\n",
    "A = A.iloc[:157]\n",
    "A.loc[158] = [np.nan, '2020-11-23']\n",
    "Totem_2 = pd.concat([A,Totem_2.iloc[157:]])\n",
    "Totem_2 = Totem_2.reset_index()\n",
    "Totem_2 = Totem_2.drop(['index'],1)"
   ]
  },
  {
   "source": [
    "### Totem 3 missing data"
   ],
   "cell_type": "markdown",
   "metadata": {}
  },
  {
   "cell_type": "code",
   "execution_count": 17,
   "metadata": {},
   "outputs": [
    {
     "output_type": "execute_result",
     "data": {
      "text/plain": [
       "False"
      ]
     },
     "metadata": {},
     "execution_count": 17
    }
   ],
   "source": [
    "Totem_3['Date'].equals(date1['dateObserved'])"
   ]
  },
  {
   "cell_type": "code",
   "execution_count": 18,
   "metadata": {},
   "outputs": [
    {
     "output_type": "stream",
     "name": "stdout",
     "text": [
      "166\n"
     ]
    }
   ],
   "source": [
    "for i in range(0,len(Totem_3)):\n",
    "    if (Totem_3.iat[i,1] != date1.iat[i,1]) :\n",
    "        print(i)\n",
    "        break"
   ]
  },
  {
   "cell_type": "code",
   "execution_count": 19,
   "metadata": {},
   "outputs": [
    {
     "output_type": "stream",
     "name": "stdout",
     "text": [
      "Totem 3 : 2020-12-01 and 2020-12-03\nReference : 2020-12-01 and 2020-12-02\n"
     ]
    }
   ],
   "source": [
    "print('Totem 3 :', Totem_3.iat[165,1], 'and', Totem_3.iat[166,1]),\n",
    "print('Reference :', date1.iat[165,1], 'and', date1.iat[166,1])"
   ]
  },
  {
   "cell_type": "code",
   "execution_count": 20,
   "metadata": {},
   "outputs": [],
   "source": [
    "B = Totem_3.copy()\n",
    "B = B.iloc[:166]\n",
    "B.loc[167] = [np.nan, '2020-12-02']\n",
    "Totem_3 = pd.concat([B,Totem_3.iloc[166:]])\n",
    "Totem_3 = Totem_3.reset_index()\n",
    "Totem_3 = Totem_3.drop('index',1)"
   ]
  },
  {
   "source": [
    "### Totem 6 missing data"
   ],
   "cell_type": "markdown",
   "metadata": {}
  },
  {
   "cell_type": "code",
   "execution_count": 21,
   "metadata": {},
   "outputs": [
    {
     "output_type": "execute_result",
     "data": {
      "text/plain": [
       "False"
      ]
     },
     "metadata": {},
     "execution_count": 21
    }
   ],
   "source": [
    "Totem_6['Date'].equals(date2['dateObserved'])"
   ]
  },
  {
   "cell_type": "code",
   "execution_count": 22,
   "metadata": {},
   "outputs": [
    {
     "output_type": "stream",
     "name": "stdout",
     "text": [
      "147\n"
     ]
    }
   ],
   "source": [
    "for i in range(0,len(Totem_6)):\n",
    "    if (Totem_6.iat[i,1] != date2.iat[i,1]) :\n",
    "        print(i)\n",
    "        break"
   ]
  },
  {
   "cell_type": "code",
   "execution_count": 23,
   "metadata": {},
   "outputs": [
    {
     "output_type": "stream",
     "name": "stdout",
     "text": [
      "Totem 6 : 2020-12-01 and 2020-12-03\nReference : 2020-12-01 and 2020-12-02\n"
     ]
    }
   ],
   "source": [
    "print('Totem 6 :', Totem_6.iat[146,1], 'and', Totem_6.iat[147,1]),\n",
    "print('Reference :', date2.iat[146,1], 'and', date2.iat[147,1])"
   ]
  },
  {
   "cell_type": "code",
   "execution_count": 24,
   "metadata": {},
   "outputs": [],
   "source": [
    "C = Totem_6.copy()\n",
    "C = C.iloc[:147]\n",
    "C.loc[148] = [np.nan, '2020-12-02']\n",
    "Totem_6 = pd.concat([C,Totem_6.iloc[147:]])\n",
    "Totem_6 = Totem_6.reset_index()\n",
    "Totem_6 = Totem_6.drop('index',1)"
   ]
  },
  {
   "source": [
    "### Totem 7 data missing"
   ],
   "cell_type": "markdown",
   "metadata": {}
  },
  {
   "cell_type": "code",
   "execution_count": 25,
   "metadata": {},
   "outputs": [
    {
     "output_type": "execute_result",
     "data": {
      "text/plain": [
       "False"
      ]
     },
     "metadata": {},
     "execution_count": 25
    }
   ],
   "source": [
    "Totem_7['Date'].equals(date2['dateObserved'])"
   ]
  },
  {
   "cell_type": "code",
   "execution_count": 26,
   "metadata": {},
   "outputs": [
    {
     "output_type": "stream",
     "name": "stdout",
     "text": [
      "147\n"
     ]
    }
   ],
   "source": [
    "for i in range(0,len(Totem_7)):\n",
    "    if (Totem_7.iat[i,1] != date2.iat[i,1]) :\n",
    "        print(i)\n",
    "        break"
   ]
  },
  {
   "cell_type": "code",
   "execution_count": 27,
   "metadata": {},
   "outputs": [
    {
     "output_type": "stream",
     "name": "stdout",
     "text": [
      "Totem 7 : 2020-12-01 and 2020-12-03\nReference : 2020-12-01 and 2020-12-02\n"
     ]
    }
   ],
   "source": [
    "print('Totem 7 :', Totem_7.iat[146,1], 'and', Totem_7.iat[147,1]),\n",
    "print('Reference :', date2.iat[146,1], 'and', date2.iat[147,1])"
   ]
  },
  {
   "cell_type": "code",
   "execution_count": 28,
   "metadata": {},
   "outputs": [],
   "source": [
    "D = Totem_7.copy()\n",
    "D = D.iloc[:147]\n",
    "D.loc[148] = [np.nan, '2020-12-02']\n",
    "Totem_7.iloc[148:]\n",
    "Totem_7 = pd.concat([D,Totem_7.iloc[148:]])\n",
    "Totem_7 = Totem_7.reset_index()\n",
    "Totem_7 = Totem_7.drop('index',1)"
   ]
  },
  {
   "source": [
    "### Same index for all data"
   ],
   "cell_type": "markdown",
   "metadata": {}
  },
  {
   "cell_type": "code",
   "execution_count": 29,
   "metadata": {},
   "outputs": [
    {
     "output_type": "stream",
     "name": "stdout",
     "text": [
      "periods for totems 2,3,4,5 : 170\nperiods for totems 6,7,8,9 : 189\nperiods for totem 10 : 71\n"
     ]
    }
   ],
   "source": [
    "print('periods for totems 2,3,4,5 :', 366-196),\n",
    "print('periods for totems 6,7,8,9 :', 366-177),\n",
    "print('periods for totem 10 :', 366-295)"
   ]
  },
  {
   "cell_type": "code",
   "execution_count": 30,
   "metadata": {},
   "outputs": [],
   "source": [
    "Totem_2 = pd.concat([Totem_2,Totem_1],1)\n",
    "Totem_2 = Totem_2.drop('intensity', 1)\n",
    "Totem_2['Lavérune'] = Totem_2['Lavérune'].shift(periods=170)\n",
    "Totem_2 = Totem_2.drop('Date', 1)\n",
    "Totem_2 = Totem_2.rename(columns = {'dateObserved': 'Date'})\n",
    "\n",
    "Totem_3 = pd.concat([Totem_3,Totem_1],1)\n",
    "Totem_3 = Totem_3.drop('intensity', 1)\n",
    "Totem_3['Celleneuve'] = Totem_3['Celleneuve'].shift(periods=170)\n",
    "Totem_3 = Totem_3.drop('Date', 1)\n",
    "Totem_3 = Totem_3.rename(columns = {'dateObserved': 'Date'})\n",
    "\n",
    "Totem_4 = pd.concat([Totem_4,Totem_1],1)\n",
    "Totem_4 = Totem_4.drop('intensity', 1)\n",
    "Totem_4['Lattes 2'] = Totem_4['Lattes 2'].shift(periods=170)\n",
    "Totem_4 = Totem_4.drop('Date', 1)\n",
    "Totem_4 = Totem_4.rename(columns = {'dateObserved': 'Date'})\n",
    "\n",
    "Totem_5 = pd.concat([Totem_5,Totem_1],1)\n",
    "Totem_5 = Totem_5.drop('intensity', 1)\n",
    "Totem_5['Lattes 1'] = Totem_5['Lattes 1'].shift(periods=170)\n",
    "Totem_5 = Totem_5.drop('Date', 1)\n",
    "Totem_5 = Totem_5.rename(columns = {'dateObserved': 'Date'})"
   ]
  },
  {
   "cell_type": "code",
   "execution_count": 31,
   "metadata": {},
   "outputs": [],
   "source": [
    "Totem_6 = pd.concat([Totem_6,Totem_1],1)\n",
    "Totem_6 = Totem_6.drop('intensity', 1)\n",
    "Totem_6['Vieille-Poste'] = Totem_6['Vieille-Poste'].shift(periods=189)\n",
    "Totem_6 = Totem_6.drop('Date', 1)\n",
    "Totem_6 = Totem_6.rename(columns = {'dateObserved': 'Date'})\n",
    "\n",
    "Totem_7 = pd.concat([Totem_7,Totem_1],1)\n",
    "Totem_7 = Totem_7.drop('intensity', 1)\n",
    "Totem_7['Gerhardt'] = Totem_7['Gerhardt'].shift(periods=190)\n",
    "Totem_7 = Totem_7.drop('Date', 1)\n",
    "Totem_7 = Totem_7.rename(columns = {'dateObserved': 'Date'})\n",
    "\n",
    "Totem_8 = pd.concat([Totem_8,Totem_1],1)\n",
    "Totem_8 = Totem_8.drop('intensity', 1)\n",
    "Totem_8['Delmas 1'] = Totem_8['Delmas 1'].shift(periods=189)\n",
    "Totem_8 = Totem_8.drop('Date', 1)\n",
    "Totem_8 = Totem_8.rename(columns = {'dateObserved': 'Date'})\n",
    "\n",
    "Totem_9 = pd.concat([Totem_9,Totem_1],1)\n",
    "Totem_9 = Totem_9.drop('intensity', 1)\n",
    "Totem_9['Delmas 2'] = Totem_9['Delmas 2'].shift(periods=189)\n",
    "Totem_9 = Totem_9.drop('Date', 1)\n",
    "Totem_9 = Totem_9.rename(columns = {'dateObserved': 'Date'})"
   ]
  },
  {
   "cell_type": "code",
   "execution_count": 32,
   "metadata": {},
   "outputs": [],
   "source": [
    "Totem_1 = Totem_1.rename(columns = {'dateObserved': 'Date', 'intensity': 'Beracasa'})"
   ]
  },
  {
   "cell_type": "code",
   "execution_count": 33,
   "metadata": {},
   "outputs": [],
   "source": [
    "Totem_1 = Totem_1.set_index('Date')\n",
    "Totem_2 = Totem_2.set_index('Date')\n",
    "Totem_3 = Totem_3.set_index('Date')\n",
    "Totem_4 = Totem_4.set_index('Date')\n",
    "Totem_5 = Totem_5.set_index('Date')\n",
    "Totem_6 = Totem_6.set_index('Date')\n",
    "Totem_7 = Totem_7.set_index('Date')\n",
    "Totem_8 = Totem_8.set_index('Date')\n",
    "Totem_9 = Totem_9.set_index('Date')\n",
    "Totem_10 = Totem_10.set_index('Date')"
   ]
  },
  {
   "cell_type": "code",
   "execution_count": 34,
   "metadata": {},
   "outputs": [],
   "source": [
    "Totem_1.index = pd.to_datetime(Totem_1.index,format=\"%Y/%m/%d\")\n",
    "Totem_2.index = pd.to_datetime(Totem_2.index,format=\"%Y/%m/%d\")\n",
    "Totem_3.index = pd.to_datetime(Totem_3.index,format=\"%Y/%m/%d\")\n",
    "Totem_4.index = pd.to_datetime(Totem_4.index,format=\"%Y/%m/%d\")\n",
    "Totem_5.index = pd.to_datetime(Totem_5.index,format=\"%Y/%m/%d\")\n",
    "Totem_6.index = pd.to_datetime(Totem_6.index,format=\"%Y/%m/%d\")\n",
    "Totem_7.index = pd.to_datetime(Totem_7.index,format=\"%Y/%m/%d\")\n",
    "Totem_8.index = pd.to_datetime(Totem_8.index,format=\"%Y/%m/%d\")\n",
    "Totem_9.index = pd.to_datetime(Totem_9.index,format=\"%Y/%m/%d\")\n",
    "Totem_10.index = pd.to_datetime(Totem_10.index,format=\"%Y/%m/%d\")"
   ]
  },
  {
   "source": [
    "### Totems Lattes and Delmas"
   ],
   "cell_type": "markdown",
   "metadata": {}
  },
  {
   "cell_type": "code",
   "execution_count": 35,
   "metadata": {},
   "outputs": [],
   "source": [
    "Totem_45 = Totem_5 + Totem_4\n",
    "Totem_45['Lattes'] = Totem_4['Lattes 2'] + Totem_5['Lattes 1']\n",
    "Totem_45 = Totem_45.drop(['Lattes 1', 'Lattes 2'], 1)\n",
    "\n",
    "Totem_89 = Totem_8 + Totem_9\n",
    "Totem_89['Delmas'] = Totem_8['Delmas 1'] + Totem_9['Delmas 2']\n",
    "Totem_89 = Totem_89.drop(['Delmas 1', 'Delmas 2'], 1)"
   ]
  },
  {
   "source": [
    "## Widget"
   ],
   "cell_type": "markdown",
   "metadata": {}
  },
  {
   "cell_type": "code",
   "execution_count": 36,
   "metadata": {},
   "outputs": [],
   "source": [
    "#Totem_1.plot.area(color='darkred', figsize=(10,6),title='Totem Beracasa 2020', ylim=[0,3700])\n",
    "#Totem_2.plot.area(color='darkred', figsize=(10,6),title='Totem Lavérune 2020', ylim=[0,3700])\n",
    "#Totem_3.plot.area(color='darkred', figsize=(10,6),title='Totem Celleneuve 2020', ylim=[0,3700])\n",
    "#Totem_4.plot.area(color='darkred', figsize=(10,6),title='Totem Lattes 2 2020', ylim=[0,3700])\n",
    "#Totem_5.plot.area(color='darkred', figsize=(10,6),title='Totem Lattes 1 2020', ylim=[0,3700])\n",
    "#Totem_45.plot.area(color='darkred', figsize=(10,6),title='Totem Lattes 2020', ylim=[0,3700])\n",
    "#Totem_6.plot.area(color='darkred', figsize=(10,6),title='Totem Vieille-Poste 2020', ylim=[0,3700])\n",
    "#Totem_7.plot.area(color='darkred', figsize=(10,6),title='Totem Gerhardt 2020', ylim=[0,3700])\n",
    "#Totem_8.plot.area(color='darkred', figsize=(10,6),title='Totem Delmas 1 2020', ylim=[0,3700])\n",
    "#Totem_9.plot.area(color='darkred', figsize=(10,6),title='Totem Delmas 2 2020', ylim=[0,3700])\n",
    "#Totem_89.plot.area(color='darkred', figsize=(10,6),title='Totem Delmas 2020', ylim=[0,3700])\n",
    "#Totem_10.plot.area(color='darkred', figsize=(10,6),title='Totem Albert 1er 2020', ylim=[0,3700])"
   ]
  },
  {
   "cell_type": "code",
   "execution_count": 37,
   "metadata": {},
   "outputs": [],
   "source": [
    "Totems = ['Beracasa', 'Albert 1er', 'Celleneuve', 'Lavérune', 'Lattes 1', 'Lattes 2', 'Lattes', 'Vieille-Poste', 'Gerhardt', 'Delmas 1', 'Delmas 2', 'Delmas']\n",
    "Year = ['January', 'February', 'March', 'April', 'May', 'June', 'July', 'August', 'September', 'October', 'November', 'December']"
   ]
  },
  {
   "cell_type": "code",
   "execution_count": 38,
   "metadata": {},
   "outputs": [],
   "source": [
    "Totem_all = pd.concat([Totem_1, Totem_10, Totem_3, Totem_2, Totem_5, Totem_4, Totem_45, Totem_6, Totem_7, Totem_8, Totem_9, Totem_89],1)\n",
    "#Totem_all = Totem_all.fillna(0)\n",
    "#Totem_all = Totem_all.astype(int)\n",
    "Totem_all['Total'] = Totem_all['Beracasa'] + Totem_all['Albert 1er'] + Totem_all['Celleneuve'] + Totem_all['Lavérune'] + Totem_all['Lattes'] + Totem_all['Vieille-Poste'] + Totem_all['Gerhardt'] + Totem_all['Delmas']\n",
    "Totem_all['index'] = [i for i in range(366)]"
   ]
  },
  {
   "cell_type": "code",
   "execution_count": 39,
   "metadata": {},
   "outputs": [
    {
     "output_type": "execute_result",
     "data": {
      "text/plain": [
       "9847.0"
      ]
     },
     "metadata": {},
     "execution_count": 39
    }
   ],
   "source": [
    "Totem_all['Total'].max()"
   ]
  },
  {
   "cell_type": "code",
   "execution_count": 40,
   "metadata": {},
   "outputs": [
    {
     "output_type": "display_data",
     "data": {
      "text/plain": "interactive(children=(Dropdown(description='Totem', options=('Beracasa', 'Albert 1er', 'Celleneuve', 'Lavérune…",
      "application/vnd.jupyter.widget-view+json": {
       "version_major": 2,
       "version_minor": 0,
       "model_id": "45f4c43cc0af4ad7827a7f6e438ea5f4"
      }
     },
     "metadata": {}
    }
   ],
   "source": [
    "def My_totem_is(Totem):\n",
    "    plt.figure(figsize=(10,7))\n",
    "    x = Totem_all[f'{Totem}']\n",
    "\n",
    "    plt.fill_between(x.index, x.values,\n",
    "                 color=\"orange\", alpha=0.4)\n",
    "    plt.plot(x.index, x.values, linewidth=1, alpha=0.8, zorder=0, color='orange')\n",
    "    plt.scatter(x.index,x.values, color='tomato', s = 1, zorder=2)\n",
    "    plt.xticks(fontsize=10)\n",
    "    plt.xlabel(\"Dates\", fontsize=12)\n",
    "    plt.yticks(fontsize=10)\n",
    "    plt.ylim(0, 3700)\n",
    "    plt.ylabel(\"Number of bicycles\", fontsize=12)\n",
    "    plt.title(f'Intensity of bicycle traffic on {Totem} current 2020')\n",
    "    plt.show()\n",
    "     \n",
    "widgets.interact(My_totem_is, Totem=['Beracasa', 'Albert 1er', 'Celleneuve', 'Lavérune', 'Lattes 1', 'Lattes 2', 'Lattes', 'Vieille-Poste', 'Gerhardt', 'Delmas 1', 'Delmas 2', 'Delmas']);\n"
   ]
  },
  {
   "source": [
    "## GIF"
   ],
   "cell_type": "markdown",
   "metadata": {}
  },
  {
   "cell_type": "code",
   "execution_count": 41,
   "metadata": {},
   "outputs": [],
   "source": [
    "#Totem_all_soft = Totem_all.copy()\n",
    "#Totem_all_soft = Totem_all_soft.drop(['Lattes 1', 'Lattes 2', 'Delmas 1', 'Delmas 2', 'Total', 'index'], 1)"
   ]
  },
  {
   "cell_type": "code",
   "execution_count": 42,
   "metadata": {},
   "outputs": [],
   "source": [
    "#Totems_locations = Totem_info.groupby('Totem Name').first()\n",
    "#Totems_locations = Totems_locations.loc[:, [\"Latitude\", \"Longitude\"]]\n",
    "#Totems_locations = Totems_locations.drop(['Lattes 2','Delmas 2'])\n",
    "#Totems_locations = Totems_locations.rename(index={'Lattes 1': 'Lattes', 'Delmas 1': 'Delmas'})"
   ]
  },
  {
   "cell_type": "code",
   "execution_count": 43,
   "metadata": {},
   "outputs": [],
   "source": [
    "#def get_traffic_day(day):\n",
    " #   Traffic_Day = Totem_all_soft.loc[f'{day}']\n",
    "  #  Traffic_Day = Traffic_Day.to_frame(name='Intensity')\n",
    "   # return Traffic_Day"
   ]
  },
  {
   "cell_type": "code",
   "execution_count": 44,
   "metadata": {},
   "outputs": [],
   "source": [
    "#def plot_totems(Traffic_Day):\n",
    "#    Montpellier_map = folium.Map(location=[43.610769, 3.876716], zoom_start=13, tiles=\"CartoDB dark_matter\")\n",
    "\n",
    " #   Traffic_Day_index = Traffic_Day.index.tolist()\n",
    "\n",
    "  #  for row in Traffic_Day_index :\n",
    "\n",
    "   #     folium.CircleMarker(\n",
    "    #        location=[Totems_locations.loc[f'{row}','Latitude'], Totems_locations.loc[f'{row}','Longitude']],\n",
    "     #       tooltip=f'<strong>{row} : {Traffic_Day.loc[row].values} bicycles</strong>',\n",
    "      #      radius=Traffic_Day.loc[f'{row}', 'Intensity']/20, \n",
    "       #     color=\"red\",\n",
    "        #    fill=True).add_to(Montpellier_map)\n",
    "   # from folium.features import DivIcon\n",
    "\n",
    "    #folium.map.Marker(\n",
    "    #[34.0302, -118.2352],\n",
    "    #icon=DivIcon(\n",
    "     #   icon_size=(150,36),\n",
    "      #  icon_anchor=(0,0),\n",
    "       # html='<div style=\"font-size: 24pt\">Test</div>',\n",
    "        #)\n",
    "    #).add_to(Montpellier_map)\n",
    "    #return Montpellier_map"
   ]
  },
  {
   "cell_type": "code",
   "execution_count": 45,
   "metadata": {},
   "outputs": [],
   "source": [
    "#date_rng = pd.date_range(start='1/1/2020', end='31/12/2020', freq='D')\n",
    "#date_rng = date_rng.strftime('%Y-%m-%d')"
   ]
  },
  {
   "cell_type": "code",
   "execution_count": 46,
   "metadata": {},
   "outputs": [],
   "source": [
    "#for date in date_rng :\n",
    "#    image_map = plot_totems(get_traffic_day(date))._to_png()\n",
    "#    png = Image.open(io.BytesIO(image_map))\n",
    "#    png.save(f\"Montpellier_map_{date}.png\")"
   ]
  },
  {
   "cell_type": "code",
   "execution_count": 47,
   "metadata": {},
   "outputs": [],
   "source": [
    "#for date in date_rng :\n",
    "#    image = Image.open(f\"Montpellier_images/Montpellier_map_{date}.png\")\n",
    " #   draw = ImageDraw.Draw(image)\n",
    " #   draw.text((50.0, 30.0),\n",
    " #              f\"{date}\", \n",
    " #               (255,255,255),\n",
    " #               font=ImageFont.truetype(\"/Library/Fonts/Times New Roman.ttf\", 24))\n",
    "#    image.save(f\"Montpellier_traffic_{date}.png\", \"PNG\")"
   ]
  },
  {
   "cell_type": "code",
   "execution_count": 48,
   "metadata": {},
   "outputs": [],
   "source": [
    "#i = 0\n",
    "#for date in date_rng :\n",
    "#    os.rename(f\"Montpellier_images_gif/Montpellier_traffic_{date}.png\", f'{i}.png')\n",
    "#    i = i+1"
   ]
  },
  {
   "cell_type": "code",
   "execution_count": 49,
   "metadata": {},
   "outputs": [],
   "source": [
    "#files_sorted = sorted(os.listdir(\"Montpellier_images_gif/\"), key=lambda x: int(x[:-4]))\n",
    "\n",
    "#images = [i for i in files_sorted if i.endswith(\".png\")]\n",
    "\n",
    "#frames2 = []\n",
    "\n",
    "#for i in images:\n",
    "#    frame = Image.open(\"Montpellier_images_gif/\" + i)\n",
    "#    frames2.append(frame)\n",
    "\n",
    "#frames2[0].save(\"bike_traffic_animated.gif\", format=\"GIF\",\n",
    "#               append_images=frames2[1:],\n",
    "#               save_all=True,\n",
    "#               duration=100, loop=0)"
   ]
  }
 ]
}